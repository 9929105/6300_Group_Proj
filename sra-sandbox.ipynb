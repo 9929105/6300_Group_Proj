{
 "cells": [
  {
   "cell_type": "markdown",
   "metadata": {},
   "source": [
    "# This is the python test module to test different snippet. "
   ]
  },
  {
   "cell_type": "code",
   "execution_count": 3,
   "metadata": {},
   "outputs": [
    {
     "name": "stdout",
     "output_type": "stream",
     "text": [
      "Requirement already satisfied: fhirclient in /home/teacherjacob_gmail_com/anaconda3/envs/spa/lib/python3.7/site-packages (3.2.0)\n",
      "Requirement already satisfied: requests in /home/teacherjacob_gmail_com/anaconda3/envs/spa/lib/python3.7/site-packages (from fhirclient) (2.20.1)\n",
      "Requirement already satisfied: isodate in /home/teacherjacob_gmail_com/anaconda3/envs/spa/lib/python3.7/site-packages (from fhirclient) (0.6.0)\n",
      "Requirement already satisfied: urllib3<1.25,>=1.21.1 in /home/teacherjacob_gmail_com/anaconda3/envs/spa/lib/python3.7/site-packages (from requests->fhirclient) (1.24.1)\n",
      "Requirement already satisfied: idna<2.8,>=2.5 in /home/teacherjacob_gmail_com/anaconda3/envs/spa/lib/python3.7/site-packages (from requests->fhirclient) (2.7)\n",
      "Requirement already satisfied: certifi>=2017.4.17 in /home/teacherjacob_gmail_com/anaconda3/envs/spa/lib/python3.7/site-packages (from requests->fhirclient) (2018.10.15)\n",
      "Requirement already satisfied: chardet<3.1.0,>=3.0.2 in /home/teacherjacob_gmail_com/anaconda3/envs/spa/lib/python3.7/site-packages (from requests->fhirclient) (3.0.4)\n",
      "Requirement already satisfied: six in /home/teacherjacob_gmail_com/anaconda3/envs/spa/lib/python3.7/site-packages (from isodate->fhirclient) (1.11.0)\n"
     ]
    }
   ],
   "source": [
    "!pip install fhirclient"
   ]
  },
  {
   "cell_type": "code",
   "execution_count": 5,
   "metadata": {},
   "outputs": [],
   "source": [
    "from fhirclient import client"
   ]
  },
  {
   "cell_type": "code",
   "execution_count": 6,
   "metadata": {},
   "outputs": [],
   "source": [
    "settings = {\n",
    "    'app_id': 'meld-cal',\n",
    "    'api_base': 'http://fhirtest.uhn.ca/baseDstu3/',    \n",
    "}\n",
    "smart = client.FHIRClient(settings=settings)"
   ]
  },
  {
   "cell_type": "code",
   "execution_count": 7,
   "metadata": {},
   "outputs": [
    {
     "name": "stdout",
     "output_type": "stream",
     "text": [
      "{'id': 'cf-1539714628834', 'meta': {'lastUpdated': '2018-10-16T19:46:19.668+00:00', 'versionId': '1'}, 'text': {'div': '<div xmlns=\"http://www.w3.org/1999/xhtml\">John Doe<a name=\"mm\"></a></div>', 'status': 'generated'}, 'birthDate': '1961-02-14', 'gender': 'male', 'identifier': [{'system': 'MYEMR', 'value': '992015019'}], 'name': [{'family': 'Doe', 'given': ['John'], 'use': 'usual'}], 'resourceType': 'Patient'}\n"
     ]
    }
   ],
   "source": [
    "import fhirclient.models.patient as p\n",
    "patient = p.Patient.read('cf-1539714628834',smart.server)\n",
    "smart.human_name(patient.name[0])\n",
    "print (patient.as_json())"
   ]
  },
  {
   "cell_type": "code",
   "execution_count": 8,
   "metadata": {},
   "outputs": [],
   "source": [
    "import fhirclient.models.observation as ob\n",
    "search = ob.Observation.where(struct={'subject':'Patient/cf-1539714628834'})\n",
    "observations = search.perform_resources(smart.server)"
   ]
  },
  {
   "cell_type": "code",
   "execution_count": 9,
   "metadata": {},
   "outputs": [
    {
     "name": "stdout",
     "output_type": "stream",
     "text": [
      "cf-1539715272504/2160-0:http://loinc.org\n",
      "{'id': 'cf-1539715272504', 'meta': {'lastUpdated': '2018-10-16T19:14:38.037+00:00', 'versionId': '3'}, 'text': {'div': '<div xmlns=\"http://www.w3.org/1999/xhtml\">Add Observation for MELD-CAL-Creatinine<a name=\"mm\"></a></div>', 'status': 'generated'}, 'category': [{'coding': [{'code': 'laboratory', 'display': 'Laboratory', 'system': 'http://hl7.org/fhir/observation-category'}]}], 'code': {'coding': [{'code': '2160-0', 'display': 'Creatinine', 'system': 'http://loinc.org'}]}, 'status': 'final', 'subject': {'reference': 'Patient/cf-1539714628834'}, 'valueQuantity': {'unit': 'mg/dL', 'value': 2}, 'resourceType': 'Observation'}\n",
      "cf-1539716460357/12907-2:http://loinc.org\n",
      "{'id': 'cf-1539716460357', 'meta': {'lastUpdated': '2018-10-16T19:14:38.030+00:00', 'versionId': '3'}, 'text': {'div': '<div xmlns=\"http://www.w3.org/1999/xhtml\">Add Observation for MELD-CAL-Sodium<a name=\"mm\"></a></div>', 'status': 'generated'}, 'category': [{'coding': [{'code': 'laboratory', 'display': 'Laboratory', 'system': 'http://hl7.org/fhir/observation-category'}]}], 'code': {'coding': [{'code': '12907-2', 'display': 'Sodium RBC-sCnc', 'system': 'http://loinc.org'}], 'text': 'Sodium [Moles/volume] in Red Blood Cells'}, 'identifier': [{'system': 'accession_num', 'value': '18-252-105910'}], 'status': 'final', 'subject': {'reference': 'Patient/cf-1539714628834'}, 'valueQuantity': {'unit': 'mEq/L', 'value': 145}, 'resourceType': 'Observation'}\n",
      "cf-1539715912412/LP15448-1:http://loinc.org\n",
      "{'id': 'cf-1539715912412', 'meta': {'lastUpdated': '2018-10-16T19:14:38.024+00:00', 'versionId': '3'}, 'text': {'div': '<div xmlns=\"http://www.w3.org/1999/xhtml\">Add Observation for MELD-CAL-Bilirubin<a name=\"mm\"></a></div>', 'status': 'generated'}, 'category': [{'coding': [{'code': 'laboratory', 'display': 'Laboratory', 'system': 'http://hl7.org/fhir/observation-category'}]}], 'code': {'coding': [{'code': 'LP15448-1', 'display': 'Bilirubin', 'system': 'http://loinc.org'}], 'text': 'Bilirubin'}, 'status': 'final', 'subject': {'reference': 'Patient/cf-1539714628834'}, 'valueQuantity': {'unit': 'mg/dL', 'value': 2.2}, 'resourceType': 'Observation'}\n",
      "cf-1539716323748/34714-6:http://loinc.org\n",
      "{'id': 'cf-1539716323748', 'meta': {'lastUpdated': '2018-10-16T19:46:19.639+00:00', 'versionId': '4'}, 'text': {'div': '<div xmlns=\"http://www.w3.org/1999/xhtml\">Add Observation for MELD-CAL-INR<a name=\"mm\"></a></div>', 'status': 'generated'}, 'category': [{'coding': [{'code': 'laboratory', 'display': 'Laboratory', 'system': 'http://hl7.org/fhir/observation-category'}]}], 'code': {'coding': [{'code': '34714-6', 'display': 'INR in Blood by Coagulation assay', 'system': 'http://loinc.org'}]}, 'identifier': [{'system': 'accession_num', 'value': '18-205-102590'}], 'status': 'final', 'subject': {'reference': 'Patient/cf-1539714628834'}, 'valueQuantity': {'unit': 'ratio', 'value': 1.5}, 'resourceType': 'Observation'}\n"
     ]
    }
   ],
   "source": [
    "for obs in observations:\n",
    "#    print(obs.as_json())\n",
    "    print(obs.id+\"/\"+obs.code.coding[0].code+\":\"+obs.code.coding[0].system)\n",
    "    print(obs.as_json())\n",
    "    if obs.code.coding[0].system == \"http://loinc.org\":\n",
    "        if obs.code.coding[0].code == '2160-0':\n",
    "            CR = obs.valueQuantity.value\n",
    "        elif obs.code.coding[0].code =='12907-2':\n",
    "            NA = obs.valueQuantity.value\n",
    "        elif obs.code.coding[0].code =='LP15448-1':\n",
    "            BILIRUBIN = obs.valueQuantity.value\n",
    "        elif obs.code.coding[0].code =='34714-6':\n",
    "            INR =  obs.valueQuantity.value"
   ]
  },
  {
   "cell_type": "code",
   "execution_count": null,
   "metadata": {},
   "outputs": [],
   "source": []
  }
 ],
 "metadata": {
  "kernelspec": {
   "display_name": "Python 3",
   "language": "python",
   "name": "python3"
  },
  "language_info": {
   "codemirror_mode": {
    "name": "ipython",
    "version": 3
   },
   "file_extension": ".py",
   "mimetype": "text/x-python",
   "name": "python",
   "nbconvert_exporter": "python",
   "pygments_lexer": "ipython3",
   "version": "3.7.0"
  }
 },
 "nbformat": 4,
 "nbformat_minor": 2
}
